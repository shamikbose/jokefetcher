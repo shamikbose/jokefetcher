{
 "cells": [
  {
   "cell_type": "code",
   "execution_count": 64,
   "metadata": {},
   "outputs": [],
   "source": [
    "import ipywidgets\n",
    "import json\n",
    "import requests\n",
    "from ipywidgets import HBox, Label"
   ]
  },
  {
   "cell_type": "markdown",
   "metadata": {},
   "source": [
    "Get list of all categories of jokes"
   ]
  },
  {
   "cell_type": "code",
   "execution_count": 65,
   "metadata": {
    "scrolled": true
   },
   "outputs": [],
   "source": [
    "get_categories=\"https://sv443.net/jokeapi/v2/categories\"\n",
    "categories=requests.get(get_categories)\n",
    "if categories.status_code==200:\n",
    "    value=json.loads(categories.content.decode('utf-8'))\n",
    "categories=value['categories']"
   ]
  },
  {
   "cell_type": "markdown",
   "metadata": {},
   "source": [
    "Get list of all flags"
   ]
  },
  {
   "cell_type": "code",
   "execution_count": 66,
   "metadata": {},
   "outputs": [],
   "source": [
    "get_flags=\"https://sv443.net/jokeapi/v2/flags\"\n",
    "response=requests.get(get_flags)\n",
    "if response.status_code==200:\n",
    "    flags=json.loads(response.content.decode('utf-8'))['flags']"
   ]
  },
  {
   "cell_type": "markdown",
   "metadata": {},
   "source": [
    "Create selection widgets from categories and flags"
   ]
  },
  {
   "cell_type": "code",
   "execution_count": 67,
   "metadata": {},
   "outputs": [
    {
     "data": {
      "application/vnd.jupyter.widget-view+json": {
       "model_id": "01160a748f45459681eee9bd7d5a6938",
       "version_major": 2,
       "version_minor": 0
      },
      "text/plain": [
       "HBox(children=(Label(value='Pick categories'), SelectMultiple(options=('Any', 'Miscellaneous', 'Programming', …"
      ]
     },
     "metadata": {},
     "output_type": "display_data"
    }
   ],
   "source": [
    "categorySelect=ipywidgets.SelectMultiple(\n",
    "    options=categories,\n",
    "    value=[],\n",
    "    description='',\n",
    "    disabled=False)\n",
    "box1=HBox([Label('Pick categories'), categorySelect])\n",
    "display(box1)"
   ]
  },
  {
   "cell_type": "code",
   "execution_count": 68,
   "metadata": {},
   "outputs": [
    {
     "data": {
      "application/vnd.jupyter.widget-view+json": {
       "model_id": "c05e8178171e4f37bd1f45826adb1101",
       "version_major": 2,
       "version_minor": 0
      },
      "text/plain": [
       "HBox(children=(Label(value='Pick types to blacklist '), SelectMultiple(options=('nsfw', 'religious', 'politica…"
      ]
     },
     "metadata": {},
     "output_type": "display_data"
    }
   ],
   "source": [
    "flagSelect=ipywidgets.SelectMultiple(\n",
    "    options=flags,\n",
    "    value=[],\n",
    "    description='',\n",
    "    disabled=False)\n",
    "box2=HBox([Label('Pick types to blacklist '), flagSelect])\n",
    "display(box2)"
   ]
  },
  {
   "cell_type": "markdown",
   "metadata": {},
   "source": [
    "Create request to get joke based on choices above"
   ]
  },
  {
   "cell_type": "code",
   "execution_count": 72,
   "metadata": {},
   "outputs": [],
   "source": [
    "get_joke_base=\"https://sv443.net/jokeapi/v2/joke/\"\n",
    "categories=\"Any\" if \"Any\" in categorySelect.value else\",\".join(str(category) for category in categorySelect.value)\n",
    "flags=None if len(categorySelect.value)==0 else \"?blacklistFlags=\"+\",\".join(str(flag) for flag in flagSelect.value)\n",
    "get_joke=get_joke_base+categories+flags"
   ]
  },
  {
   "cell_type": "markdown",
   "metadata": {},
   "source": [
    "Deliver two-part jokes and single line jokes differently"
   ]
  },
  {
   "cell_type": "code",
   "execution_count": 73,
   "metadata": {},
   "outputs": [
    {
     "name": "stdout",
     "output_type": "stream",
     "text": [
      "My ex had an accident. I told the paramedics the wrong blood type for her. She'll finally experience what rejection is really like.\n"
     ]
    }
   ],
   "source": [
    "joke_response=requests.get(get_joke)\n",
    "if joke_response.status_code==200:\n",
    "    joke_response=json.loads(joke_response.content.decode('utf-8'))\n",
    "    if joke_response['type']=='twopart':\n",
    "        print(joke_response['setup'])\n",
    "        input()\n",
    "        print(joke_response['delivery'])\n",
    "    else:\n",
    "        print(joke_response['joke'])\n",
    "else:\n",
    "    print(\"Fetching more jokes from the cloud. Try again in a little bit...\")"
   ]
  },
  {
   "cell_type": "markdown",
   "metadata": {},
   "source": [
    "Sit back contentedly as other people ponder their life decisions that brought them here"
   ]
  },
  {
   "cell_type": "code",
   "execution_count": null,
   "metadata": {},
   "outputs": [],
   "source": []
  }
 ],
 "metadata": {
  "kernelspec": {
   "display_name": "Python 3",
   "language": "python",
   "name": "python3"
  },
  "language_info": {
   "codemirror_mode": {
    "name": "ipython",
    "version": 3
   },
   "file_extension": ".py",
   "mimetype": "text/x-python",
   "name": "python",
   "nbconvert_exporter": "python",
   "pygments_lexer": "ipython3",
   "version": "3.7.6"
  }
 },
 "nbformat": 4,
 "nbformat_minor": 4
}
